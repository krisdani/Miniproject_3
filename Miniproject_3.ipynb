{
 "cells": [
  {
   "cell_type": "markdown",
   "id": "72679384",
   "metadata": {},
   "source": [
    "Соберите все данные из папки data в один датафрэйм, имеющий следующие столбцы: колонки из самих файлов (product_id, quantity), имя пользователя (name), и дату этих покупок (date), соответствует названию папки, где лежит папка с пользователем).\n",
    "\n",
    "Пример итоговой таблицы:\n",
    "    \n",
    "    product_id  quantity    name             date\n",
    "    \n",
    "0       56          2         Anatoly_Karpov   2020-12-30\n",
    "\n",
    "1       7           2         Anatoly_Karpov   2020-12-30\n",
    "\n",
    "2       9           3         Anatoly_Karpov   2020-12-30\n",
    "\n",
    "Например:\n",
    "\n",
    "1. Имеются следующие данные:\n",
    "    \n",
    "> df_1\n",
    "\n",
    "    product_id  quantity    name               date\n",
    "    \n",
    "0       56          2         Anatoly_Karpov     2020-12-30\n",
    "\n",
    "1       7           2         Anatoly_Karpov     2020-12-30\n",
    "\n",
    "2       9           3         Anatoly_Karpov     2020-12-30\n",
    "\n",
    "> df_2\n",
    "\n",
    "    product_id  quantity    name               date\n",
    "    \n",
    "0       4           2         Кatya_Skriptsova   2020-12-30\n",
    "\n",
    "1       71          1         Кatya_Skriptsova   2020-12-31\n",
    "\n",
    "2. Соединяем, передав на вход список датафреймов, которые нужно объединить.\n",
    "\n",
    "\n",
    "    product_id  quantity    name                date\n",
    "    \n",
    "0       56          2         Anatoly_Karpov      2020-12-30\n",
    "\n",
    "1       7           2         Anatoly_Karpov      2020-12-30\n",
    "\n",
    "2       9           3         Anatoly_Karpov      2020-12-30\n",
    "\n",
    "0       4           2         Кatya_Skriptsova    2020-12-30\n",
    "\n",
    "1       71          1         Кatya_Skriptsova    2020-12-31\n",
    "\n",
    "#### В качестве ответа укажите сумму по колонке quantity."
   ]
  },
  {
   "cell_type": "code",
   "execution_count": 1,
   "id": "929dabef",
   "metadata": {},
   "outputs": [],
   "source": [
    "import os\n",
    "import pandas as pd"
   ]
  },
  {
   "cell_type": "code",
   "execution_count": 2,
   "id": "3e71c370",
   "metadata": {},
   "outputs": [],
   "source": [
    "tree = os.walk('data')"
   ]
  },
  {
   "cell_type": "code",
   "execution_count": 3,
   "id": "4a852e39",
   "metadata": {},
   "outputs": [],
   "source": [
    "data_files = []\n",
    "\n",
    "target_file = 'data.csv'\n",
    "\n",
    "for item in tree:\n",
    "    files = item[-1]\n",
    "    \n",
    "    if len(files) > 0 and target_file in files:\n",
    "        path = os.path.join(item[0], target_file)\n",
    "        data_files.append(path)"
   ]
  },
  {
   "cell_type": "code",
   "execution_count": 4,
   "id": "5a1ee9b7",
   "metadata": {},
   "outputs": [
    {
     "data": {
      "text/plain": [
       "['data\\\\2020-12-03\\\\Alexey_Smirnov\\\\data.csv',\n",
       " 'data\\\\2020-12-03\\\\Anton_Petrov\\\\data.csv',\n",
       " 'data\\\\2020-12-03\\\\Kirill_Petrov\\\\data.csv',\n",
       " 'data\\\\2020-12-03\\\\Petr_Fedorov\\\\data.csv',\n",
       " 'data\\\\2020-12-03\\\\Vasiliy_Ivanov\\\\data.csv',\n",
       " 'data\\\\2020-12-03\\\\Vasiliy_Petrov\\\\data.csv',\n",
       " 'data\\\\2020-12-04\\\\Alexey_Smirnov\\\\data.csv',\n",
       " 'data\\\\2020-12-04\\\\Kirill_Fedorov\\\\data.csv',\n",
       " 'data\\\\2020-12-04\\\\Petr_Fedorov\\\\data.csv',\n",
       " 'data\\\\2020-12-04\\\\Petr_Ivanov\\\\data.csv',\n",
       " 'data\\\\2020-12-04\\\\Petr_Smirnov\\\\data.csv',\n",
       " 'data\\\\2020-12-04\\\\Rostislav_Fedorov\\\\data.csv',\n",
       " 'data\\\\2020-12-04\\\\Rostislav_Ivanov\\\\data.csv',\n",
       " 'data\\\\2020-12-04\\\\Rostislav_Smirnov\\\\data.csv',\n",
       " 'data\\\\2020-12-04\\\\Vasiliy_Ivanov\\\\data.csv',\n",
       " 'data\\\\2020-12-05\\\\Alexey_Fedorov\\\\data.csv',\n",
       " 'data\\\\2020-12-05\\\\Alexey_Petrov\\\\data.csv',\n",
       " 'data\\\\2020-12-05\\\\Kirill_Smirnov\\\\data.csv',\n",
       " 'data\\\\2020-12-05\\\\Petr_Ivanov\\\\data.csv',\n",
       " 'data\\\\2020-12-05\\\\Petr_Smirnov\\\\data.csv',\n",
       " 'data\\\\2020-12-05\\\\Rostislav_Smirnov\\\\data.csv',\n",
       " 'data\\\\2020-12-06\\\\Vasiliy_Fedorov\\\\data.csv',\n",
       " 'data\\\\2020-12-07\\\\Alexey_Fedorov\\\\data.csv',\n",
       " 'data\\\\2020-12-07\\\\Alexey_Ivanov\\\\data.csv',\n",
       " 'data\\\\2020-12-07\\\\Alexey_Smirnov\\\\data.csv',\n",
       " 'data\\\\2020-12-07\\\\Anton_Ivanov\\\\data.csv',\n",
       " 'data\\\\2020-12-07\\\\Anton_Smirnov\\\\data.csv',\n",
       " 'data\\\\2020-12-07\\\\Kirill_Fedorov\\\\data.csv',\n",
       " 'data\\\\2020-12-07\\\\Petr_Fedorov\\\\data.csv',\n",
       " 'data\\\\2020-12-07\\\\Petr_Smirnov\\\\data.csv',\n",
       " 'data\\\\2020-12-07\\\\Rostislav_Fedorov\\\\data.csv',\n",
       " 'data\\\\2020-12-07\\\\Vasiliy_Ivanov\\\\data.csv',\n",
       " 'data\\\\2020-12-08\\\\Alexey_Fedorov\\\\data.csv',\n",
       " 'data\\\\2020-12-08\\\\Anton_Smirnov\\\\data.csv',\n",
       " 'data\\\\2020-12-08\\\\Kirill_Smirnov\\\\data.csv',\n",
       " 'data\\\\2020-12-08\\\\Petr_Petrov\\\\data.csv',\n",
       " 'data\\\\2020-12-08\\\\Rostislav_Petrov\\\\data.csv',\n",
       " 'data\\\\2020-12-09\\\\Alexey_Smirnov\\\\data.csv',\n",
       " 'data\\\\2020-12-09\\\\Anton_Ivanov\\\\data.csv',\n",
       " 'data\\\\2020-12-09\\\\Anton_Petrov\\\\data.csv',\n",
       " 'data\\\\2020-12-09\\\\Anton_Smirnov\\\\data.csv',\n",
       " 'data\\\\2020-12-09\\\\Petr_Fedorov\\\\data.csv',\n",
       " 'data\\\\2020-12-09\\\\Rostislav_Petrov\\\\data.csv',\n",
       " 'data\\\\2020-12-09\\\\Vasiliy_Ivanov\\\\data.csv']"
      ]
     },
     "execution_count": 4,
     "metadata": {},
     "output_type": "execute_result"
    }
   ],
   "source": [
    "data_files"
   ]
  },
  {
   "cell_type": "code",
   "execution_count": 5,
   "id": "22083aca",
   "metadata": {},
   "outputs": [],
   "source": [
    "data_files_df = []\n",
    "\n",
    "\n",
    "for path in data_files:\n",
    "    df = pd.read_csv(path, index_col=0)\n",
    "    date, name = path.split('\\\\')[1:3]\n",
    "    df['name'] = name\n",
    "    df['date'] = date\n",
    "    data_files_df.append(df)"
   ]
  },
  {
   "cell_type": "code",
   "execution_count": 6,
   "id": "fc2ed7fe",
   "metadata": {},
   "outputs": [
    {
     "data": {
      "text/html": [
       "<div>\n",
       "<style scoped>\n",
       "    .dataframe tbody tr th:only-of-type {\n",
       "        vertical-align: middle;\n",
       "    }\n",
       "\n",
       "    .dataframe tbody tr th {\n",
       "        vertical-align: top;\n",
       "    }\n",
       "\n",
       "    .dataframe thead th {\n",
       "        text-align: right;\n",
       "    }\n",
       "</style>\n",
       "<table border=\"1\" class=\"dataframe\">\n",
       "  <thead>\n",
       "    <tr style=\"text-align: right;\">\n",
       "      <th></th>\n",
       "      <th>product_id</th>\n",
       "      <th>quantity</th>\n",
       "      <th>name</th>\n",
       "      <th>date</th>\n",
       "    </tr>\n",
       "  </thead>\n",
       "  <tbody>\n",
       "    <tr>\n",
       "      <th>0</th>\n",
       "      <td>47</td>\n",
       "      <td>1</td>\n",
       "      <td>Alexey_Smirnov</td>\n",
       "      <td>2020-12-03</td>\n",
       "    </tr>\n",
       "    <tr>\n",
       "      <th>1</th>\n",
       "      <td>57</td>\n",
       "      <td>1</td>\n",
       "      <td>Alexey_Smirnov</td>\n",
       "      <td>2020-12-03</td>\n",
       "    </tr>\n",
       "    <tr>\n",
       "      <th>2</th>\n",
       "      <td>14</td>\n",
       "      <td>2</td>\n",
       "      <td>Alexey_Smirnov</td>\n",
       "      <td>2020-12-03</td>\n",
       "    </tr>\n",
       "    <tr>\n",
       "      <th>3</th>\n",
       "      <td>52</td>\n",
       "      <td>1</td>\n",
       "      <td>Alexey_Smirnov</td>\n",
       "      <td>2020-12-03</td>\n",
       "    </tr>\n",
       "    <tr>\n",
       "      <th>4</th>\n",
       "      <td>1</td>\n",
       "      <td>4</td>\n",
       "      <td>Alexey_Smirnov</td>\n",
       "      <td>2020-12-03</td>\n",
       "    </tr>\n",
       "  </tbody>\n",
       "</table>\n",
       "</div>"
      ],
      "text/plain": [
       "   product_id  quantity            name        date\n",
       "0          47         1  Alexey_Smirnov  2020-12-03\n",
       "1          57         1  Alexey_Smirnov  2020-12-03\n",
       "2          14         2  Alexey_Smirnov  2020-12-03\n",
       "3          52         1  Alexey_Smirnov  2020-12-03\n",
       "4           1         4  Alexey_Smirnov  2020-12-03"
      ]
     },
     "execution_count": 6,
     "metadata": {},
     "output_type": "execute_result"
    }
   ],
   "source": [
    "data_files_df[0].head()"
   ]
  },
  {
   "cell_type": "code",
   "execution_count": 7,
   "id": "e9e93580",
   "metadata": {},
   "outputs": [],
   "source": [
    "data = pd.concat(data_files_df, ignore_index=True)"
   ]
  },
  {
   "cell_type": "code",
   "execution_count": 8,
   "id": "0dd8fa98",
   "metadata": {},
   "outputs": [
    {
     "data": {
      "text/html": [
       "<div>\n",
       "<style scoped>\n",
       "    .dataframe tbody tr th:only-of-type {\n",
       "        vertical-align: middle;\n",
       "    }\n",
       "\n",
       "    .dataframe tbody tr th {\n",
       "        vertical-align: top;\n",
       "    }\n",
       "\n",
       "    .dataframe thead th {\n",
       "        text-align: right;\n",
       "    }\n",
       "</style>\n",
       "<table border=\"1\" class=\"dataframe\">\n",
       "  <thead>\n",
       "    <tr style=\"text-align: right;\">\n",
       "      <th></th>\n",
       "      <th>product_id</th>\n",
       "      <th>quantity</th>\n",
       "      <th>name</th>\n",
       "      <th>date</th>\n",
       "    </tr>\n",
       "  </thead>\n",
       "  <tbody>\n",
       "    <tr>\n",
       "      <th>0</th>\n",
       "      <td>47</td>\n",
       "      <td>1</td>\n",
       "      <td>Alexey_Smirnov</td>\n",
       "      <td>2020-12-03</td>\n",
       "    </tr>\n",
       "    <tr>\n",
       "      <th>1</th>\n",
       "      <td>57</td>\n",
       "      <td>1</td>\n",
       "      <td>Alexey_Smirnov</td>\n",
       "      <td>2020-12-03</td>\n",
       "    </tr>\n",
       "    <tr>\n",
       "      <th>2</th>\n",
       "      <td>14</td>\n",
       "      <td>2</td>\n",
       "      <td>Alexey_Smirnov</td>\n",
       "      <td>2020-12-03</td>\n",
       "    </tr>\n",
       "    <tr>\n",
       "      <th>3</th>\n",
       "      <td>52</td>\n",
       "      <td>1</td>\n",
       "      <td>Alexey_Smirnov</td>\n",
       "      <td>2020-12-03</td>\n",
       "    </tr>\n",
       "    <tr>\n",
       "      <th>4</th>\n",
       "      <td>1</td>\n",
       "      <td>4</td>\n",
       "      <td>Alexey_Smirnov</td>\n",
       "      <td>2020-12-03</td>\n",
       "    </tr>\n",
       "    <tr>\n",
       "      <th>5</th>\n",
       "      <td>94</td>\n",
       "      <td>4</td>\n",
       "      <td>Alexey_Smirnov</td>\n",
       "      <td>2020-12-03</td>\n",
       "    </tr>\n",
       "    <tr>\n",
       "      <th>6</th>\n",
       "      <td>56</td>\n",
       "      <td>5</td>\n",
       "      <td>Anton_Petrov</td>\n",
       "      <td>2020-12-03</td>\n",
       "    </tr>\n",
       "    <tr>\n",
       "      <th>7</th>\n",
       "      <td>27</td>\n",
       "      <td>3</td>\n",
       "      <td>Anton_Petrov</td>\n",
       "      <td>2020-12-03</td>\n",
       "    </tr>\n",
       "    <tr>\n",
       "      <th>8</th>\n",
       "      <td>82</td>\n",
       "      <td>1</td>\n",
       "      <td>Anton_Petrov</td>\n",
       "      <td>2020-12-03</td>\n",
       "    </tr>\n",
       "    <tr>\n",
       "      <th>9</th>\n",
       "      <td>61</td>\n",
       "      <td>1</td>\n",
       "      <td>Anton_Petrov</td>\n",
       "      <td>2020-12-03</td>\n",
       "    </tr>\n",
       "  </tbody>\n",
       "</table>\n",
       "</div>"
      ],
      "text/plain": [
       "   product_id  quantity            name        date\n",
       "0          47         1  Alexey_Smirnov  2020-12-03\n",
       "1          57         1  Alexey_Smirnov  2020-12-03\n",
       "2          14         2  Alexey_Smirnov  2020-12-03\n",
       "3          52         1  Alexey_Smirnov  2020-12-03\n",
       "4           1         4  Alexey_Smirnov  2020-12-03\n",
       "5          94         4  Alexey_Smirnov  2020-12-03\n",
       "6          56         5    Anton_Petrov  2020-12-03\n",
       "7          27         3    Anton_Petrov  2020-12-03\n",
       "8          82         1    Anton_Petrov  2020-12-03\n",
       "9          61         1    Anton_Petrov  2020-12-03"
      ]
     },
     "execution_count": 8,
     "metadata": {},
     "output_type": "execute_result"
    }
   ],
   "source": [
    "data.head(10)"
   ]
  },
  {
   "cell_type": "code",
   "execution_count": 9,
   "id": "acf871e1",
   "metadata": {},
   "outputs": [
    {
     "data": {
      "text/plain": [
       "480"
      ]
     },
     "execution_count": 9,
     "metadata": {},
     "output_type": "execute_result"
    }
   ],
   "source": [
    "data.quantity.sum()"
   ]
  },
  {
   "cell_type": "markdown",
   "id": "9560a111",
   "metadata": {},
   "source": [
    "Выясните, какой пользователь купил больше всего товаров. Если их несколько, то перечислите имена через запятую с пробелом и в алфавитном порядке. Например:\n",
    "\n",
    "Anatoly_Karpov, Nekto_Ktotovich, Lena_Uhanova, Ignat, Sasha_Tokarev"
   ]
  },
  {
   "cell_type": "code",
   "execution_count": 104,
   "id": "f01b8637",
   "metadata": {},
   "outputs": [],
   "source": [
    "quantities = data.groupby('name').quantity.sum()"
   ]
  },
  {
   "cell_type": "code",
   "execution_count": 105,
   "id": "9ca8b6b7",
   "metadata": {},
   "outputs": [],
   "source": [
    "max_quantities = quantities.max()"
   ]
  },
  {
   "cell_type": "code",
   "execution_count": 106,
   "id": "9b4262d2",
   "metadata": {},
   "outputs": [
    {
     "data": {
      "text/plain": [
       "Index(['Alexey_Smirnov', 'Petr_Smirnov'], dtype='object', name='name')"
      ]
     },
     "execution_count": 106,
     "metadata": {},
     "output_type": "execute_result"
    }
   ],
   "source": [
    "quantities.loc[quantities == max_quantities].index.sort_values()"
   ]
  },
  {
   "cell_type": "markdown",
   "id": "e3e959ee",
   "metadata": {},
   "source": [
    "Найдите топ-10 товаров по числу проданных единиц за всё время и постройте барплот (столбчатую диаграмму, sns.barplot), где:\n",
    "\n",
    "по оси x – идентификаторы товаров (product_id) \n",
    "\n",
    "по оси y – суммарное число их покупок (сколько товаров с таким product_id было продано)\n",
    "\n",
    "Для практики попробуйте изменить параметры графика: цвет (color), прозрачность (alpha), сортировку значений по оси х (order). \n",
    "\n",
    "В качестве ответа укажите, сколько было продано единиц товара с product_id равным 56."
   ]
  },
  {
   "cell_type": "code",
   "execution_count": 112,
   "id": "15f68992",
   "metadata": {},
   "outputs": [],
   "source": [
    "sold = data.groupby('product_id', as_index=False).quantity.sum()"
   ]
  },
  {
   "cell_type": "code",
   "execution_count": 113,
   "id": "bbeac7a2",
   "metadata": {},
   "outputs": [],
   "source": [
    "sold = sold.sort_values('quantity', ascending=False).head(10)"
   ]
  },
  {
   "cell_type": "code",
   "execution_count": 114,
   "id": "5da15798",
   "metadata": {},
   "outputs": [
    {
     "data": {
      "text/html": [
       "<div>\n",
       "<style scoped>\n",
       "    .dataframe tbody tr th:only-of-type {\n",
       "        vertical-align: middle;\n",
       "    }\n",
       "\n",
       "    .dataframe tbody tr th {\n",
       "        vertical-align: top;\n",
       "    }\n",
       "\n",
       "    .dataframe thead th {\n",
       "        text-align: right;\n",
       "    }\n",
       "</style>\n",
       "<table border=\"1\" class=\"dataframe\">\n",
       "  <thead>\n",
       "    <tr style=\"text-align: right;\">\n",
       "      <th></th>\n",
       "      <th>product_id</th>\n",
       "      <th>quantity</th>\n",
       "    </tr>\n",
       "  </thead>\n",
       "  <tbody>\n",
       "    <tr>\n",
       "      <th>22</th>\n",
       "      <td>27</td>\n",
       "      <td>20</td>\n",
       "    </tr>\n",
       "    <tr>\n",
       "      <th>42</th>\n",
       "      <td>56</td>\n",
       "      <td>18</td>\n",
       "    </tr>\n",
       "    <tr>\n",
       "      <th>21</th>\n",
       "      <td>24</td>\n",
       "      <td>15</td>\n",
       "    </tr>\n",
       "    <tr>\n",
       "      <th>51</th>\n",
       "      <td>74</td>\n",
       "      <td>15</td>\n",
       "    </tr>\n",
       "    <tr>\n",
       "      <th>32</th>\n",
       "      <td>41</td>\n",
       "      <td>14</td>\n",
       "    </tr>\n",
       "    <tr>\n",
       "      <th>27</th>\n",
       "      <td>34</td>\n",
       "      <td>13</td>\n",
       "    </tr>\n",
       "    <tr>\n",
       "      <th>66</th>\n",
       "      <td>94</td>\n",
       "      <td>13</td>\n",
       "    </tr>\n",
       "    <tr>\n",
       "      <th>46</th>\n",
       "      <td>66</td>\n",
       "      <td>13</td>\n",
       "    </tr>\n",
       "    <tr>\n",
       "      <th>65</th>\n",
       "      <td>92</td>\n",
       "      <td>12</td>\n",
       "    </tr>\n",
       "    <tr>\n",
       "      <th>38</th>\n",
       "      <td>50</td>\n",
       "      <td>12</td>\n",
       "    </tr>\n",
       "  </tbody>\n",
       "</table>\n",
       "</div>"
      ],
      "text/plain": [
       "    product_id  quantity\n",
       "22          27        20\n",
       "42          56        18\n",
       "21          24        15\n",
       "51          74        15\n",
       "32          41        14\n",
       "27          34        13\n",
       "66          94        13\n",
       "46          66        13\n",
       "65          92        12\n",
       "38          50        12"
      ]
     },
     "execution_count": 114,
     "metadata": {},
     "output_type": "execute_result"
    }
   ],
   "source": [
    "sold"
   ]
  },
  {
   "cell_type": "code",
   "execution_count": 119,
   "id": "bd69736f",
   "metadata": {},
   "outputs": [],
   "source": [
    "import seaborn as sns\n",
    "import matplotlib.pyplot as plt"
   ]
  },
  {
   "cell_type": "code",
   "execution_count": 129,
   "id": "d688706e",
   "metadata": {},
   "outputs": [
    {
     "data": {
      "text/plain": [
       "<AxesSubplot:xlabel='product_id', ylabel='quantity'>"
      ]
     },
     "execution_count": 129,
     "metadata": {},
     "output_type": "execute_result"
    },
    {
     "data": {
      "image/png": "[encoded data removed]",
      "text/plain": [
       "<Figure size 1700x500 with 1 Axes>"
      ]
     },
     "metadata": {},
     "output_type": "display_data"
    }
   ],
   "source": [
    "fig, ax = plt.subplots(figsize=(17, 5))\n",
    "sns.barplot(data=sold, x='product_id', y='quantity', ci=None, palette='hls', alpha=0.2)"
   ]
  },
  {
   "cell_type": "markdown",
   "id": "eeb0db98",
   "metadata": {},
   "source": [
    "Посмотрим на продажи по дням! Для визуализации снова используйте барплот, только теперь по оси x будут дни, по которым у нас есть данные (date)."
   ]
  },
  {
   "cell_type": "code",
   "execution_count": 131,
   "id": "5ae9ba0f",
   "metadata": {},
   "outputs": [],
   "source": [
    "sold_day = data.groupby('date').quantity.agg('sum').sort_values(ascending=False)"
   ]
  },
  {
   "cell_type": "code",
   "execution_count": 133,
   "id": "f3471592",
   "metadata": {},
   "outputs": [
    {
     "data": {
      "text/plain": [
       "<AxesSubplot:xlabel='date', ylabel='quantity'>"
      ]
     },
     "execution_count": 133,
     "metadata": {},
     "output_type": "execute_result"
    },
    {
     "data": {
      "image/png": "[encoded data removed]",
      "text/plain": [
       "<Figure size 1700x500 with 1 Axes>"
      ]
     },
     "metadata": {},
     "output_type": "display_data"
    }
   ],
   "source": [
    "fig, ax = plt.subplots(figsize=(17, 5))\n",
    "sns.barplot(data=data, x='date', y='quantity', ci=None)"
   ]
  },
  {
   "cell_type": "markdown",
   "id": "88d1a02d",
   "metadata": {},
   "source": [
    "Сколько пользователей приобрели какой-либо товар повторно (более 1 раза)? Повтором будем считать покупку товара с одинаковым product_id, совершенную в разные дни. \n",
    "\n",
    "Например, пользователь Sasha Tsarev дважды приобрел товар 6. Поскольку покупка была совершена в один и тот же день, повторной в данном случае она считаться не будет. Katya Skriptsova также сделал две покупки товара 7, но в разные дни, поэтому этот случай засчитывается.\n",
    "    \n",
    "\n",
    "product_id quantity name              date\n",
    "\n",
    "25         2        Katya Skriptsova  2020-12-05\n",
    "\n",
    "54         1        Olya Silyutina    2020-12-05  \n",
    "\n",
    "7          4        Katya Skriptsova  2020-12-05 \n",
    "\n",
    "6          4        Sasha Tsarev      2020-12-06\n",
    "\n",
    "6          1        Sasha Tsarev      2020-12-06\n",
    "\n",
    "7          5        Katya Skriptsova  2020-12-06  "
   ]
  },
  {
   "cell_type": "code",
   "execution_count": 137,
   "id": "8d8d9402",
   "metadata": {},
   "outputs": [],
   "source": [
    "products_per_day = data.groupby('date', as_index=False).quantity.sum()"
   ]
  },
  {
   "cell_type": "code",
   "execution_count": 138,
   "id": "53dcf59f",
   "metadata": {},
   "outputs": [
    {
     "data": {
      "text/html": [
       "<div>\n",
       "<style scoped>\n",
       "    .dataframe tbody tr th:only-of-type {\n",
       "        vertical-align: middle;\n",
       "    }\n",
       "\n",
       "    .dataframe tbody tr th {\n",
       "        vertical-align: top;\n",
       "    }\n",
       "\n",
       "    .dataframe thead th {\n",
       "        text-align: right;\n",
       "    }\n",
       "</style>\n",
       "<table border=\"1\" class=\"dataframe\">\n",
       "  <thead>\n",
       "    <tr style=\"text-align: right;\">\n",
       "      <th></th>\n",
       "      <th>date</th>\n",
       "      <th>quantity</th>\n",
       "    </tr>\n",
       "  </thead>\n",
       "  <tbody>\n",
       "    <tr>\n",
       "      <th>0</th>\n",
       "      <td>2020-12-03</td>\n",
       "      <td>60</td>\n",
       "    </tr>\n",
       "    <tr>\n",
       "      <th>1</th>\n",
       "      <td>2020-12-04</td>\n",
       "      <td>113</td>\n",
       "    </tr>\n",
       "    <tr>\n",
       "      <th>2</th>\n",
       "      <td>2020-12-05</td>\n",
       "      <td>61</td>\n",
       "    </tr>\n",
       "    <tr>\n",
       "      <th>3</th>\n",
       "      <td>2020-12-06</td>\n",
       "      <td>15</td>\n",
       "    </tr>\n",
       "    <tr>\n",
       "      <th>4</th>\n",
       "      <td>2020-12-07</td>\n",
       "      <td>94</td>\n",
       "    </tr>\n",
       "    <tr>\n",
       "      <th>5</th>\n",
       "      <td>2020-12-08</td>\n",
       "      <td>68</td>\n",
       "    </tr>\n",
       "    <tr>\n",
       "      <th>6</th>\n",
       "      <td>2020-12-09</td>\n",
       "      <td>69</td>\n",
       "    </tr>\n",
       "  </tbody>\n",
       "</table>\n",
       "</div>"
      ],
      "text/plain": [
       "         date  quantity\n",
       "0  2020-12-03        60\n",
       "1  2020-12-04       113\n",
       "2  2020-12-05        61\n",
       "3  2020-12-06        15\n",
       "4  2020-12-07        94\n",
       "5  2020-12-08        68\n",
       "6  2020-12-09        69"
      ]
     },
     "execution_count": 138,
     "metadata": {},
     "output_type": "execute_result"
    }
   ],
   "source": [
    "products_per_day"
   ]
  },
  {
   "cell_type": "code",
   "execution_count": 140,
   "id": "bc3541fd",
   "metadata": {},
   "outputs": [
    {
     "data": {
      "text/plain": [
       "<AxesSubplot:xlabel='date', ylabel='quantity'>"
      ]
     },
     "execution_count": 140,
     "metadata": {},
     "output_type": "execute_result"
    },
    {
     "data": {
      "image/png": "[encoded data removed]",
      "text/plain": [
       "<Figure size 1000x500 with 1 Axes>"
      ]
     },
     "metadata": {},
     "output_type": "display_data"
    }
   ],
   "source": [
    "fig, ax = plt.subplots(figsize=(10, 5))\n",
    "sns.barplot(data=products_per_day, x='date', y='quantity')"
   ]
  },
  {
   "cell_type": "markdown",
   "id": "8236a14e",
   "metadata": {},
   "source": [
    "Небольшой минипроект на фильтрацию данных.\n",
    "\n",
    "Имеется таблица с записями о компаниях, включая их ИНН, и отдельный текстовый файл с набором ИНН (колонка head_inn), которые хранятся в папке 4_inn.\n",
    "\n",
    "inn.xls — таблица в экселевском формате\n",
    "\n",
    "necessary_inn.txt — перечень необходимых ИНН в текстовом формате\n",
    "\n",
    "Задачи:\n",
    "    \n",
    "извлечь из таблицы записи с ИНН, указанными в текстовом файле\n",
    "\n",
    "записать результат в файл selected_inn.csv\n",
    "\n",
    "В качестве проверки укажите сумму колонки income,RUB в отобранных данных."
   ]
  },
  {
   "cell_type": "markdown",
   "id": "26cdc4f0",
   "metadata": {},
   "source": [
    "### Извлекаю из таблицы записи с ИНН, указанными в текстовом файле"
   ]
  },
  {
   "cell_type": "code",
   "execution_count": 143,
   "id": "035b78ca",
   "metadata": {},
   "outputs": [],
   "source": [
    "necessary = []\n",
    "\n",
    "with open('4_necessary_inn.txt') as f:\n",
    "    for line in f:\n",
    "        necessary.append(int(line))"
   ]
  },
  {
   "cell_type": "code",
   "execution_count": 149,
   "id": "b0c2ef5c",
   "metadata": {},
   "outputs": [],
   "source": [
    "data = pd.read_excel('4_inn.xls')"
   ]
  },
  {
   "cell_type": "code",
   "execution_count": 150,
   "id": "b971754d",
   "metadata": {},
   "outputs": [
    {
     "data": {
      "text/html": [
       "<div>\n",
       "<style scoped>\n",
       "    .dataframe tbody tr th:only-of-type {\n",
       "        vertical-align: middle;\n",
       "    }\n",
       "\n",
       "    .dataframe tbody tr th {\n",
       "        vertical-align: top;\n",
       "    }\n",
       "\n",
       "    .dataframe thead th {\n",
       "        text-align: right;\n",
       "    }\n",
       "</style>\n",
       "<table border=\"1\" class=\"dataframe\">\n",
       "  <thead>\n",
       "    <tr style=\"text-align: right;\">\n",
       "      <th></th>\n",
       "      <th>Unnamed: 0</th>\n",
       "      <th>#</th>\n",
       "      <th>name</th>\n",
       "      <th>reg_number</th>\n",
       "      <th>address</th>\n",
       "      <th>head</th>\n",
       "      <th>head_job</th>\n",
       "      <th>head_inn</th>\n",
       "      <th>phone</th>\n",
       "      <th>email</th>\n",
       "      <th>site</th>\n",
       "      <th>registration_date</th>\n",
       "      <th>nalogoplatelschik_code</th>\n",
       "      <th>oktmo_code</th>\n",
       "      <th>okato_code</th>\n",
       "      <th>registration_region</th>\n",
       "      <th>okato_name</th>\n",
       "      <th>field</th>\n",
       "      <th>capital,RUB</th>\n",
       "      <th>income,RUB</th>\n",
       "    </tr>\n",
       "  </thead>\n",
       "  <tbody>\n",
       "    <tr>\n",
       "      <th>0</th>\n",
       "      <td>0</td>\n",
       "      <td>0</td>\n",
       "      <td>ЗАО «Власова, Макаров и Шашков»</td>\n",
       "      <td>1143692580560</td>\n",
       "      <td>д. Кирово-Чепецк, пр. Металлургов, д. 537 к. 3...</td>\n",
       "      <td>Жданов Карл Виленович</td>\n",
       "      <td>Маммолог</td>\n",
       "      <td>109092209811</td>\n",
       "      <td>+7 (559) 338-87-76</td>\n",
       "      <td>bogdanovavtonom@yahoo.com</td>\n",
       "      <td>ooo.info</td>\n",
       "      <td>2015-01-07</td>\n",
       "      <td>2006-10-04</td>\n",
       "      <td>21112877268</td>\n",
       "      <td>73423615032</td>\n",
       "      <td>Ulan-Ude</td>\n",
       "      <td>к. Тосно, ул. Пушкинская, д. 896, 617222</td>\n",
       "      <td>Синхронизация критически важных отношений</td>\n",
       "      <td>54875526078</td>\n",
       "      <td>32205872896</td>\n",
       "    </tr>\n",
       "  </tbody>\n",
       "</table>\n",
       "</div>"
      ],
      "text/plain": [
       "   Unnamed: 0  #                             name     reg_number  \\\n",
       "0           0  0  ЗАО «Власова, Макаров и Шашков»  1143692580560   \n",
       "\n",
       "                                             address                   head  \\\n",
       "0  д. Кирово-Чепецк, пр. Металлургов, д. 537 к. 3...  Жданов Карл Виленович   \n",
       "\n",
       "   head_job      head_inn               phone                      email  \\\n",
       "0  Маммолог  109092209811  +7 (559) 338-87-76  bogdanovavtonom@yahoo.com   \n",
       "\n",
       "       site registration_date nalogoplatelschik_code   oktmo_code  \\\n",
       "0  ooo.info        2015-01-07             2006-10-04  21112877268   \n",
       "\n",
       "    okato_code registration_region                                okato_name  \\\n",
       "0  73423615032            Ulan-Ude  к. Тосно, ул. Пушкинская, д. 896, 617222   \n",
       "\n",
       "                                       field  capital,RUB   income,RUB  \n",
       "0  Синхронизация критически важных отношений  54875526078  32205872896  "
      ]
     },
     "execution_count": 150,
     "metadata": {},
     "output_type": "execute_result"
    }
   ],
   "source": [
    "data.head(1)"
   ]
  },
  {
   "cell_type": "code",
   "execution_count": 151,
   "id": "5915b691",
   "metadata": {},
   "outputs": [],
   "source": [
    "data = pd.read_excel('4_inn.xls', index_col='#')"
   ]
  },
  {
   "cell_type": "code",
   "execution_count": 153,
   "id": "d75701a6",
   "metadata": {},
   "outputs": [
    {
     "data": {
      "text/html": [
       "<div>\n",
       "<style scoped>\n",
       "    .dataframe tbody tr th:only-of-type {\n",
       "        vertical-align: middle;\n",
       "    }\n",
       "\n",
       "    .dataframe tbody tr th {\n",
       "        vertical-align: top;\n",
       "    }\n",
       "\n",
       "    .dataframe thead th {\n",
       "        text-align: right;\n",
       "    }\n",
       "</style>\n",
       "<table border=\"1\" class=\"dataframe\">\n",
       "  <thead>\n",
       "    <tr style=\"text-align: right;\">\n",
       "      <th></th>\n",
       "      <th>Unnamed: 0</th>\n",
       "      <th>name</th>\n",
       "      <th>reg_number</th>\n",
       "      <th>address</th>\n",
       "      <th>head</th>\n",
       "      <th>head_job</th>\n",
       "      <th>head_inn</th>\n",
       "      <th>phone</th>\n",
       "      <th>email</th>\n",
       "      <th>site</th>\n",
       "      <th>registration_date</th>\n",
       "      <th>nalogoplatelschik_code</th>\n",
       "      <th>oktmo_code</th>\n",
       "      <th>okato_code</th>\n",
       "      <th>registration_region</th>\n",
       "      <th>okato_name</th>\n",
       "      <th>field</th>\n",
       "      <th>capital,RUB</th>\n",
       "      <th>income,RUB</th>\n",
       "    </tr>\n",
       "    <tr>\n",
       "      <th>#</th>\n",
       "      <th></th>\n",
       "      <th></th>\n",
       "      <th></th>\n",
       "      <th></th>\n",
       "      <th></th>\n",
       "      <th></th>\n",
       "      <th></th>\n",
       "      <th></th>\n",
       "      <th></th>\n",
       "      <th></th>\n",
       "      <th></th>\n",
       "      <th></th>\n",
       "      <th></th>\n",
       "      <th></th>\n",
       "      <th></th>\n",
       "      <th></th>\n",
       "      <th></th>\n",
       "      <th></th>\n",
       "      <th></th>\n",
       "    </tr>\n",
       "  </thead>\n",
       "  <tbody>\n",
       "    <tr>\n",
       "      <th>0</th>\n",
       "      <td>0</td>\n",
       "      <td>ЗАО «Власова, Макаров и Шашков»</td>\n",
       "      <td>1143692580560</td>\n",
       "      <td>д. Кирово-Чепецк, пр. Металлургов, д. 537 к. 3...</td>\n",
       "      <td>Жданов Карл Виленович</td>\n",
       "      <td>Маммолог</td>\n",
       "      <td>109092209811</td>\n",
       "      <td>+7 (559) 338-87-76</td>\n",
       "      <td>bogdanovavtonom@yahoo.com</td>\n",
       "      <td>ooo.info</td>\n",
       "      <td>2015-01-07</td>\n",
       "      <td>2006-10-04</td>\n",
       "      <td>21112877268</td>\n",
       "      <td>73423615032</td>\n",
       "      <td>Ulan-Ude</td>\n",
       "      <td>к. Тосно, ул. Пушкинская, д. 896, 617222</td>\n",
       "      <td>Синхронизация критически важных отношений</td>\n",
       "      <td>54875526078</td>\n",
       "      <td>32205872896</td>\n",
       "    </tr>\n",
       "  </tbody>\n",
       "</table>\n",
       "</div>"
      ],
      "text/plain": [
       "   Unnamed: 0                             name     reg_number  \\\n",
       "#                                                               \n",
       "0           0  ЗАО «Власова, Макаров и Шашков»  1143692580560   \n",
       "\n",
       "                                             address                   head  \\\n",
       "#                                                                             \n",
       "0  д. Кирово-Чепецк, пр. Металлургов, д. 537 к. 3...  Жданов Карл Виленович   \n",
       "\n",
       "   head_job      head_inn               phone                      email  \\\n",
       "#                                                                          \n",
       "0  Маммолог  109092209811  +7 (559) 338-87-76  bogdanovavtonom@yahoo.com   \n",
       "\n",
       "       site registration_date nalogoplatelschik_code   oktmo_code  \\\n",
       "#                                                                   \n",
       "0  ooo.info        2015-01-07             2006-10-04  21112877268   \n",
       "\n",
       "    okato_code registration_region                                okato_name  \\\n",
       "#                                                                              \n",
       "0  73423615032            Ulan-Ude  к. Тосно, ул. Пушкинская, д. 896, 617222   \n",
       "\n",
       "                                       field  capital,RUB   income,RUB  \n",
       "#                                                                       \n",
       "0  Синхронизация критически важных отношений  54875526078  32205872896  "
      ]
     },
     "execution_count": 153,
     "metadata": {},
     "output_type": "execute_result"
    }
   ],
   "source": [
    "data.head(1)"
   ]
  },
  {
   "cell_type": "code",
   "execution_count": 154,
   "id": "c159c2ba",
   "metadata": {},
   "outputs": [],
   "source": [
    "data.drop('Unnamed: 0', axis=1, inplace=True)"
   ]
  },
  {
   "cell_type": "code",
   "execution_count": 155,
   "id": "0e81908d",
   "metadata": {},
   "outputs": [
    {
     "data": {
      "text/html": [
       "<div>\n",
       "<style scoped>\n",
       "    .dataframe tbody tr th:only-of-type {\n",
       "        vertical-align: middle;\n",
       "    }\n",
       "\n",
       "    .dataframe tbody tr th {\n",
       "        vertical-align: top;\n",
       "    }\n",
       "\n",
       "    .dataframe thead th {\n",
       "        text-align: right;\n",
       "    }\n",
       "</style>\n",
       "<table border=\"1\" class=\"dataframe\">\n",
       "  <thead>\n",
       "    <tr style=\"text-align: right;\">\n",
       "      <th></th>\n",
       "      <th>name</th>\n",
       "      <th>reg_number</th>\n",
       "      <th>address</th>\n",
       "      <th>head</th>\n",
       "      <th>head_job</th>\n",
       "      <th>head_inn</th>\n",
       "      <th>phone</th>\n",
       "      <th>email</th>\n",
       "      <th>site</th>\n",
       "      <th>registration_date</th>\n",
       "      <th>nalogoplatelschik_code</th>\n",
       "      <th>oktmo_code</th>\n",
       "      <th>okato_code</th>\n",
       "      <th>registration_region</th>\n",
       "      <th>okato_name</th>\n",
       "      <th>field</th>\n",
       "      <th>capital,RUB</th>\n",
       "      <th>income,RUB</th>\n",
       "    </tr>\n",
       "    <tr>\n",
       "      <th>#</th>\n",
       "      <th></th>\n",
       "      <th></th>\n",
       "      <th></th>\n",
       "      <th></th>\n",
       "      <th></th>\n",
       "      <th></th>\n",
       "      <th></th>\n",
       "      <th></th>\n",
       "      <th></th>\n",
       "      <th></th>\n",
       "      <th></th>\n",
       "      <th></th>\n",
       "      <th></th>\n",
       "      <th></th>\n",
       "      <th></th>\n",
       "      <th></th>\n",
       "      <th></th>\n",
       "      <th></th>\n",
       "    </tr>\n",
       "  </thead>\n",
       "  <tbody>\n",
       "    <tr>\n",
       "      <th>0</th>\n",
       "      <td>ЗАО «Власова, Макаров и Шашков»</td>\n",
       "      <td>1143692580560</td>\n",
       "      <td>д. Кирово-Чепецк, пр. Металлургов, д. 537 к. 3...</td>\n",
       "      <td>Жданов Карл Виленович</td>\n",
       "      <td>Маммолог</td>\n",
       "      <td>109092209811</td>\n",
       "      <td>+7 (559) 338-87-76</td>\n",
       "      <td>bogdanovavtonom@yahoo.com</td>\n",
       "      <td>ooo.info</td>\n",
       "      <td>2015-01-07</td>\n",
       "      <td>2006-10-04</td>\n",
       "      <td>21112877268</td>\n",
       "      <td>73423615032</td>\n",
       "      <td>Ulan-Ude</td>\n",
       "      <td>к. Тосно, ул. Пушкинская, д. 896, 617222</td>\n",
       "      <td>Синхронизация критически важных отношений</td>\n",
       "      <td>54875526078</td>\n",
       "      <td>32205872896</td>\n",
       "    </tr>\n",
       "  </tbody>\n",
       "</table>\n",
       "</div>"
      ],
      "text/plain": [
       "                              name     reg_number  \\\n",
       "#                                                   \n",
       "0  ЗАО «Власова, Макаров и Шашков»  1143692580560   \n",
       "\n",
       "                                             address                   head  \\\n",
       "#                                                                             \n",
       "0  д. Кирово-Чепецк, пр. Металлургов, д. 537 к. 3...  Жданов Карл Виленович   \n",
       "\n",
       "   head_job      head_inn               phone                      email  \\\n",
       "#                                                                          \n",
       "0  Маммолог  109092209811  +7 (559) 338-87-76  bogdanovavtonom@yahoo.com   \n",
       "\n",
       "       site registration_date nalogoplatelschik_code   oktmo_code  \\\n",
       "#                                                                   \n",
       "0  ooo.info        2015-01-07             2006-10-04  21112877268   \n",
       "\n",
       "    okato_code registration_region                                okato_name  \\\n",
       "#                                                                              \n",
       "0  73423615032            Ulan-Ude  к. Тосно, ул. Пушкинская, д. 896, 617222   \n",
       "\n",
       "                                       field  capital,RUB   income,RUB  \n",
       "#                                                                       \n",
       "0  Синхронизация критически важных отношений  54875526078  32205872896  "
      ]
     },
     "execution_count": 155,
     "metadata": {},
     "output_type": "execute_result"
    }
   ],
   "source": [
    "data.head(1)"
   ]
  },
  {
   "cell_type": "code",
   "execution_count": 156,
   "id": "2c013e6f",
   "metadata": {},
   "outputs": [
    {
     "data": {
      "text/plain": [
       "(2110, 18)"
      ]
     },
     "execution_count": 156,
     "metadata": {},
     "output_type": "execute_result"
    }
   ],
   "source": [
    "data.shape"
   ]
  },
  {
   "cell_type": "code",
   "execution_count": 158,
   "id": "bbe28eac",
   "metadata": {},
   "outputs": [],
   "source": [
    "data = data.loc[data.head_inn.isin(necessary)]"
   ]
  },
  {
   "cell_type": "code",
   "execution_count": 159,
   "id": "ac273cf9",
   "metadata": {},
   "outputs": [
    {
     "data": {
      "text/plain": [
       "(115, 18)"
      ]
     },
     "execution_count": 159,
     "metadata": {},
     "output_type": "execute_result"
    }
   ],
   "source": [
    "data.shape"
   ]
  },
  {
   "cell_type": "markdown",
   "id": "ede350ae",
   "metadata": {},
   "source": [
    "### Записываю результат в файл selected_inn.csv"
   ]
  },
  {
   "cell_type": "code",
   "execution_count": 162,
   "id": "700a27fe",
   "metadata": {},
   "outputs": [],
   "source": [
    "data.to_csv('selected_inn.csv', index=False)"
   ]
  },
  {
   "cell_type": "markdown",
   "id": "d797d351",
   "metadata": {},
   "source": [
    "### В качестве проверки указываю сумму колонки income,RUB в отобранных данных."
   ]
  },
  {
   "cell_type": "code",
   "execution_count": 161,
   "id": "3c63c8c7",
   "metadata": {},
   "outputs": [
    {
     "data": {
      "text/plain": [
       "6104522627393"
      ]
     },
     "execution_count": 161,
     "metadata": {},
     "output_type": "execute_result"
    }
   ],
   "source": [
    "data['income,RUB'].sum()"
   ]
  }
 ],
 "metadata": {
  "kernelspec": {
   "display_name": "Python 3 (ipykernel)",
   "language": "python",
   "name": "python3"
  },
  "language_info": {
   "codemirror_mode": {
    "name": "ipython",
    "version": 3
   },
   "file_extension": ".py",
   "mimetype": "text/x-python",
   "name": "python",
   "nbconvert_exporter": "python",
   "pygments_lexer": "ipython3",
   "version": "3.9.13"
  }
 },
 "nbformat": 4,
 "nbformat_minor": 5
}
